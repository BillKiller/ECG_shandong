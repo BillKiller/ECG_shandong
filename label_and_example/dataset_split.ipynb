{
 "cells": [
  {
   "cell_type": "code",
   "execution_count": 1,
   "id": "6d624ba6-4531-427b-ba13-0ab95f2ef370",
   "metadata": {},
   "outputs": [],
   "source": [
    "import pandas as pd\n",
    "import numpy as np"
   ]
  },
  {
   "cell_type": "code",
   "execution_count": 2,
   "id": "0b9c85d3-0ef6-464f-b2b5-5e7a98a477bb",
   "metadata": {},
   "outputs": [],
   "source": [
    "data = pd.read_csv('train_label_1217.csv',encoding='utf-8')"
   ]
  },
  {
   "cell_type": "code",
   "execution_count": 3,
   "id": "f68cf322-d3b9-43d4-a57b-bbdb7b11d1ea",
   "metadata": {},
   "outputs": [],
   "source": [
    "data1 = pd.concat([data, data['label'].str.split(',', expand=True)], axis=1)"
   ]
  },
  {
   "cell_type": "code",
   "execution_count": 4,
   "id": "c0d49a93-1ef8-404e-8042-d51f8b582617",
   "metadata": {},
   "outputs": [
    {
     "data": {
      "text/plain": [
       "[0, 1, 2, 3, 4, 5, 6, 7, 8, 9, 10, 11, 12, 13, 14, 15, 16, 17]"
      ]
     },
     "execution_count": 4,
     "metadata": {},
     "output_type": "execute_result"
    }
   ],
   "source": [
    "LABEL_NAME_LIST = list(range(0,18))\n",
    "LABEL_NAME_LIST"
   ]
  },
  {
   "cell_type": "code",
   "execution_count": 5,
   "id": "90f32016-c65a-4963-8c9d-bbd87d4f5d7a",
   "metadata": {},
   "outputs": [],
   "source": [
    "x = data1[[\"id\"]].values\n",
    "#LABEL_NAME_LIST为18个label的名称\n",
    "y = data1[LABEL_NAME_LIST].values.astype(np.float)"
   ]
  },
  {
   "cell_type": "code",
   "execution_count": 6,
   "id": "1d2a2058-4925-4678-a503-6c053d1971b5",
   "metadata": {},
   "outputs": [],
   "source": [
    "from sklearn.model_selection import train_test_split"
   ]
  },
  {
   "cell_type": "code",
   "execution_count": 14,
   "id": "1c1ce5e5-a115-4232-8b02-a85695bebcf3",
   "metadata": {},
   "outputs": [],
   "source": [
    "train_X,test_X,train_y,test_y = train_test_split(x,y,test_size = 0.25,random_state=0)"
   ]
  },
  {
   "cell_type": "code",
   "execution_count": 22,
   "id": "eb27dc30-594d-47ed-b07b-a81073703605",
   "metadata": {},
   "outputs": [
    {
     "data": {
      "text/plain": [
       "(20859, 18)"
      ]
     },
     "execution_count": 22,
     "metadata": {},
     "output_type": "execute_result"
    }
   ],
   "source": [
    "train_y.shape"
   ]
  },
  {
   "cell_type": "code",
   "execution_count": 26,
   "id": "80402b6a-fc44-4db6-b5db-5d566e7442f8",
   "metadata": {},
   "outputs": [],
   "source": [
    "train_data = np.hstack((train_X,train_y))\n",
    "train_data = pd.DataFrame(train_data)\n",
    "train_data.to_csv('train.csv')"
   ]
  },
  {
   "cell_type": "code",
   "execution_count": 27,
   "id": "6a75c2a0-c0a6-4365-be8a-9157223f7d21",
   "metadata": {},
   "outputs": [],
   "source": [
    "test_data = np.hstack((test_X,test_y))\n",
    "test_data = pd.DataFrame(test_data)\n",
    "test_data.to_csv('test.csv')"
   ]
  },
  {
   "cell_type": "code",
   "execution_count": null,
   "id": "35848cd5-3e79-41e5-85f1-4e40f8eb7f6b",
   "metadata": {},
   "outputs": [],
   "source": []
  }
 ],
 "metadata": {
  "kernelspec": {
   "display_name": "Python 3 (ipykernel)",
   "language": "python",
   "name": "python3"
  },
  "language_info": {
   "codemirror_mode": {
    "name": "ipython",
    "version": 3
   },
   "file_extension": ".py",
   "mimetype": "text/x-python",
   "name": "python",
   "nbconvert_exporter": "python",
   "pygments_lexer": "ipython3",
   "version": "3.8.5"
  }
 },
 "nbformat": 4,
 "nbformat_minor": 5
}
